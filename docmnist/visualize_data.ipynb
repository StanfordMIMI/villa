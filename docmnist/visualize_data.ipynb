{
 "cells": [
  {
   "cell_type": "code",
   "execution_count": 26,
   "metadata": {},
   "outputs": [],
   "source": [
    "import numpy as np\n",
    "import sparse\n",
    "import matplotlib.pyplot as plt\n",
    "import pandas as pd\n",
    "from rich import print"
   ]
  },
  {
   "cell_type": "code",
   "execution_count": 27,
   "metadata": {},
   "outputs": [],
   "source": [
    "DATA_DIR = # Add path to DocMNIST data directory\n",
    "IMAGE_ID = 800"
   ]
  },
  {
   "cell_type": "code",
   "execution_count": 29,
   "metadata": {},
   "outputs": [
    {
     "data": {
      "text/html": [
       "<pre style=\"white-space:pre;overflow-x:auto;line-height:normal;font-family:Menlo,'DejaVu Sans Mono',consolas,'Courier New',monospace\">IMAGE:\n",
       "</pre>\n"
      ],
      "text/plain": [
       "IMAGE:\n"
      ]
     },
     "metadata": {},
     "output_type": "display_data"
    },
    {
     "data": {
      "image/png": "[encoded data removed]",
      "text/plain": [
       "<Figure size 640x480 with 1 Axes>"
      ]
     },
     "metadata": {},
     "output_type": "display_data"
    },
    {
     "data": {
      "text/html": [
       "<pre style=\"white-space:pre;overflow-x:auto;line-height:normal;font-family:Menlo,'DejaVu Sans Mono',consolas,'Courier New',monospace\">TEXT: the image is blue . the image has a rectangle . the digit appears to be four . the image shows a zero . the \n",
       "shape is medium . there is a yellow image\n",
       "</pre>\n"
      ],
      "text/plain": [
       "TEXT: the image is blue . the image has a rectangle . the digit appears to be four . the image shows a zero . the \n",
       "shape is medium . there is a yellow image\n"
      ]
     },
     "metadata": {},
     "output_type": "display_data"
    },
    {
     "data": {
      "text/html": [
       "<pre style=\"white-space:pre;overflow-x:auto;line-height:normal;font-family:Menlo,'DejaVu Sans Mono',consolas,'Courier New',monospace\">REGION-ATTRIBUTE PAIRS:\n",
       "</pre>\n"
      ],
      "text/plain": [
       "REGION-ATTRIBUTE PAIRS:\n"
      ]
     },
     "metadata": {},
     "output_type": "display_data"
    },
    {
     "data": {
      "text/html": [
       "<pre style=\"white-space:pre;overflow-x:auto;line-height:normal;font-family:Menlo,'DejaVu Sans Mono',consolas,'Courier New',monospace\">        REGION <span style=\"color: #008080; text-decoration-color: #008080; font-weight: bold\">1</span>: <span style=\"font-weight: bold\">[</span><span style=\"color: #008000; text-decoration-color: #008000\">'four'</span> <span style=\"color: #008000; text-decoration-color: #008000\">'yellow'</span><span style=\"font-weight: bold\">]</span>\n",
       "</pre>\n"
      ],
      "text/plain": [
       "        REGION \u001b[1;36m1\u001b[0m: \u001b[1m[\u001b[0m\u001b[32m'four'\u001b[0m \u001b[32m'yellow'\u001b[0m\u001b[1m]\u001b[0m\n"
      ]
     },
     "metadata": {},
     "output_type": "display_data"
    },
    {
     "data": {
      "text/html": [
       "<pre style=\"white-space:pre;overflow-x:auto;line-height:normal;font-family:Menlo,'DejaVu Sans Mono',consolas,'Courier New',monospace\">        REGION <span style=\"color: #008080; text-decoration-color: #008080; font-weight: bold\">2</span>: <span style=\"font-weight: bold\">[</span><span style=\"color: #008000; text-decoration-color: #008000\">'zero'</span> <span style=\"color: #008000; text-decoration-color: #008000\">'blue'</span> <span style=\"color: #008000; text-decoration-color: #008000\">'rectangle'</span> <span style=\"color: #008000; text-decoration-color: #008000\">'medium'</span><span style=\"font-weight: bold\">]</span>\n",
       "</pre>\n"
      ],
      "text/plain": [
       "        REGION \u001b[1;36m2\u001b[0m: \u001b[1m[\u001b[0m\u001b[32m'zero'\u001b[0m \u001b[32m'blue'\u001b[0m \u001b[32m'rectangle'\u001b[0m \u001b[32m'medium'\u001b[0m\u001b[1m]\u001b[0m\n"
      ]
     },
     "metadata": {},
     "output_type": "display_data"
    }
   ],
   "source": [
    "# Load image and annotations\n",
    "img = sparse.load_npz(f\"{DATA_DIR}/images/{IMAGE_ID}.npz\").todense() / 255\n",
    "df = pd.read_feather(f'{DATA_DIR}/annotations.feather')\n",
    "row = df[df['image_id']==IMAGE_ID]\n",
    "\n",
    "# Print image\n",
    "print(\"IMAGE:\")\n",
    "plt.imshow(np.transpose(img, (1,2,0)))\n",
    "plt.show()\n",
    "\n",
    "# Print text\n",
    "caption = row['text'].values[0]\n",
    "print(\"TEXT:\", caption)\n",
    "\n",
    "# Print region-attribute pairs\n",
    "print(\"REGION-ATTRIBUTE PAIRS:\")\n",
    "mappings = row['reg_to_attr'].values[0]\n",
    "for i in range(len(mappings)):\n",
    "    print(f\"\\tREGION {i+1}:\", mappings[i])"
   ]
  },
  {
   "cell_type": "code",
   "execution_count": null,
   "metadata": {},
   "outputs": [],
   "source": []
  }
 ],
 "metadata": {
  "kernelspec": {
   "display_name": "venv",
   "language": "python",
   "name": "python3"
  },
  "language_info": {
   "codemirror_mode": {
    "name": "ipython",
    "version": 3
   },
   "file_extension": ".py",
   "mimetype": "text/x-python",
   "name": "python",
   "nbconvert_exporter": "python",
   "pygments_lexer": "ipython3",
   "version": "3.7.12"
  },
  "orig_nbformat": 4
 },
 "nbformat": 4,
 "nbformat_minor": 2
}
